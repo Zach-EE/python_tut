{
 "cells": [
  {
   "cell_type": "markdown",
   "metadata": {},
   "source": [
    "## Tuples:\n"
   ]
  },
  {
   "cell_type": "code",
   "execution_count": 14,
   "metadata": {},
   "outputs": [
    {
     "data": {
      "text/plain": [
       "5"
      ]
     },
     "execution_count": 14,
     "metadata": {},
     "output_type": "execute_result"
    }
   ],
   "source": [
    "tup = (4,5,6)\n",
    "a,b,c = tup\n",
    "b"
   ]
  },
  {
   "cell_type": "markdown",
   "metadata": {},
   "source": [
    "- Sequences with nested tuples"
   ]
  },
  {
   "cell_type": "code",
   "execution_count": 15,
   "metadata": {},
   "outputs": [
    {
     "data": {
      "text/plain": [
       "7"
      ]
     },
     "execution_count": 15,
     "metadata": {},
     "output_type": "execute_result"
    }
   ],
   "source": [
    "tup = 4,5,(6,7)\n",
    "a,b,(c,d) = tup\n",
    "d"
   ]
  },
  {
   "cell_type": "markdown",
   "metadata": {},
   "source": [
    "- Value swap:"
   ]
  },
  {
   "cell_type": "code",
   "execution_count": 16,
   "metadata": {},
   "outputs": [
    {
     "data": {
      "text/plain": [
       "1"
      ]
     },
     "execution_count": 16,
     "metadata": {},
     "output_type": "execute_result"
    }
   ],
   "source": [
    "a,b = 1,2\n",
    "b,a = a,b \n",
    "b"
   ]
  },
  {
   "cell_type": "markdown",
   "metadata": {},
   "source": [
    "- Common way of unpacking is iterating over sequences of tuples or lists:"
   ]
  },
  {
   "cell_type": "code",
   "execution_count": 17,
   "metadata": {},
   "outputs": [
    {
     "name": "stdout",
     "output_type": "stream",
     "text": [
      "a=1, b = 2, c = 3\n",
      "a=4, b = 5, c = 6\n",
      "a=7, b = 8, c = 9\n",
      "a=10, b = 11, c = 12\n",
      "a=13, b = 14, c = 15\n"
     ]
    }
   ],
   "source": [
    "seq = [(1,2,3),(4,5,6),(7,8,9),(10,11,12),(13,14,15)]\n",
    "\n",
    "for a,b,c in seq:\n",
    "    print(f'a={ a }, b = { b }, c = { c }')\n",
    "    #print('a={0},b={1},c={2}'.format(a,b,c))\n"
   ]
  },
  {
   "cell_type": "markdown",
   "metadata": {},
   "source": [
    "- In the event you would like to pluck a few elements from the beginning of a tuple python uses the special `*rest` syntax\n",
    "- Note: that since the `rest` bit is usually unwanted it can be exchanged with the underscore convention:\n",
    "    ```python\n",
    "    a,b, *_ = values\n",
    "    ```"
   ]
  },
  {
   "cell_type": "code",
   "execution_count": 18,
   "metadata": {},
   "outputs": [
    {
     "data": {
      "text/plain": [
       "(1, 2)"
      ]
     },
     "execution_count": 18,
     "metadata": {},
     "output_type": "execute_result"
    }
   ],
   "source": [
    "values = 1,2,3,4,5,6,7,8,9,10\n",
    "a,b, *rest = values\n",
    "a,b"
   ]
  },
  {
   "cell_type": "markdown",
   "metadata": {},
   "source": [
    "- Tuples are immutable so limited instance methods exist for them one of which being `count()` which returns the number of occurrences of a given value in a tuple or list:"
   ]
  },
  {
   "cell_type": "code",
   "execution_count": 19,
   "metadata": {},
   "outputs": [
    {
     "data": {
      "text/plain": [
       "4"
      ]
     },
     "execution_count": 19,
     "metadata": {},
     "output_type": "execute_result"
    }
   ],
   "source": [
    "a = (1,2,3,2,2,2,4,5,6,7)\n",
    "a.count(2)"
   ]
  },
  {
   "cell_type": "markdown",
   "metadata": {},
   "source": [
    "## Lists:\n",
    "- In contrast to tuples, lists are variable-length and contents are mutable in place.\n",
    "- Can be defined using `[]` or `list()` type function."
   ]
  },
  {
   "cell_type": "code",
   "execution_count": 22,
   "metadata": {},
   "outputs": [
    {
     "data": {
      "text/plain": [
       "['suck', 'a', 'donkey dick']"
      ]
     },
     "execution_count": 22,
     "metadata": {},
     "output_type": "execute_result"
    }
   ],
   "source": [
    "a_list = [2,3,4,None]\n",
    "tup = ('suck','a','dick')\n",
    "\n",
    "b_list = list(tup)\n",
    "b_list[2] = 'donkey dick'\n",
    "b_list"
   ]
  },
  {
   "cell_type": "markdown",
   "metadata": {},
   "source": [
    "- List function is often used in data processing as a way to materialize an iterator or generator expression"
   ]
  },
  {
   "cell_type": "code",
   "execution_count": 23,
   "metadata": {},
   "outputs": [
    {
     "name": "stdout",
     "output_type": "stream",
     "text": [
      "range(0, 10)\n"
     ]
    },
    {
     "data": {
      "text/plain": [
       "[0, 1, 2, 3, 4, 5, 6, 7, 8, 9]"
      ]
     },
     "execution_count": 23,
     "metadata": {},
     "output_type": "execute_result"
    }
   ],
   "source": [
    "gen = range(10)\n",
    "print(gen)\n",
    "list(gen)"
   ]
  },
  {
   "cell_type": "markdown",
   "metadata": {},
   "source": [
    "**Adding and Removing elements:**\n",
    "- `.append(data)`: adds element to the end of a list\n",
    "- `.insert(index, data)`: inserts element at index in range 0 to len(list), and is inclusive.\n",
    "    - *note, insert method() is computationally expensive compared to append() due to references to subsequent elements have to be shifted internally to make room for new element.*\n",
    "- `.pop(index)`: inverse operation of insert, removes and returns an element at a specified index.\n",
    "- `.remove(data)`: locates and removes the first instance of an element in a list\n",
    "- *If performance is not an issue you can check yo see whether a list contains element with the `in` keyword*"
   ]
  },
  {
   "cell_type": "markdown",
   "metadata": {},
   "source": [
    "**Concatenating and Combining Lists:**\n",
    "- Similar to tuples lists can be concatenated by addition, however this is relatively expensive operation due to new lists being created and objects being copied over. Therefore it is better to use the `extend()` method to append list, *especially when building up a large list*"
   ]
  },
  {
   "cell_type": "code",
   "execution_count": 25,
   "metadata": {},
   "outputs": [
    {
     "data": {
      "text/plain": [
       "[4, None, 'xxx', 5, 6, (7, 8)]"
      ]
     },
     "execution_count": 25,
     "metadata": {},
     "output_type": "execute_result"
    }
   ],
   "source": [
    "x = [4, None, 'xxx'] + [5,6,(7,8)]\n",
    "x"
   ]
  },
  {
   "cell_type": "code",
   "execution_count": 26,
   "metadata": {},
   "outputs": [
    {
     "data": {
      "text/plain": [
       "[4, None, 'xxx', 5, 6, (7, 8)]"
      ]
     },
     "execution_count": 26,
     "metadata": {},
     "output_type": "execute_result"
    }
   ],
   "source": [
    "x = [4, None, 'xxx']\n",
    "x.extend([5,6,(7,8)])\n",
    "x"
   ]
  },
  {
   "cell_type": "markdown",
   "metadata": {},
   "source": [
    "- Thus,\n",
    "    ```python\n",
    "    everything = []\n",
    "    for chunk in list_of_lists:\n",
    "        everything.extend(chunk)\n",
    "    ```\n",
    "    is faster the concatenative alternative:\n",
    "    ```python\n",
    "    everything = []\n",
    "    for chunk in list_of_lists:\n",
    "        everything = everything + chunk\n",
    "    ```    "
   ]
  },
  {
   "cell_type": "markdown",
   "metadata": {},
   "source": [
    "**Sorting**\n",
    "\n",
    "- Lists can be sorted in-place without creating a new object with the `sort()` function.\n",
    "- A function parameter can be passed to the `sort(f)` function to produce a value to sort list by, i.e. len(strings)"
   ]
  },
  {
   "cell_type": "code",
   "execution_count": 27,
   "metadata": {},
   "outputs": [
    {
     "data": {
      "text/plain": [
       "['he', 'saw', 'they', 'rebel']"
      ]
     },
     "execution_count": 27,
     "metadata": {},
     "output_type": "execute_result"
    }
   ],
   "source": [
    "b = ['saw','he','they','rebel']\n",
    "b.sort(key=len)\n",
    "\n",
    "b"
   ]
  },
  {
   "cell_type": "markdown",
   "metadata": {},
   "source": [
    "**Binary Search and maintaining a sorted list**\n",
    "\n",
    "The built in `bisect()` module implements a binary search and insertion into a sorted list.\n",
    "- `bisect.bisect()` finds the location where an element should be inserted to keep list sorted.\n",
    "- `bisect.insort()` will insert the element into that location.\n",
    "- *note, the `bisect()` module does not check if list is sorted so using on unsorted list will yield no errors but will return incorrect results.*"
   ]
  },
  {
   "cell_type": "code",
   "execution_count": 28,
   "metadata": {},
   "outputs": [],
   "source": [
    "import bisect"
   ]
  },
  {
   "cell_type": "code",
   "execution_count": 31,
   "metadata": {},
   "outputs": [
    {
     "name": "stdout",
     "output_type": "stream",
     "text": [
      "bisect.bisect(c,2) -> 4\n",
      "bisect.bisect(c,5) -> 6\n",
      "c =  [1, 2, 2, 2, 3, 4, 7]\n",
      "bisect.insort(c,6) -> [1, 2, 2, 2, 3, 4, 6, 7]\n"
     ]
    }
   ],
   "source": [
    "c = [1,2,2,2,3,4,7]\n",
    "\n",
    "print('bisect.bisect(c,2) ->',bisect.bisect(c,2))\n",
    "print('bisect.bisect(c,5) ->',bisect.bisect(c,5))\n",
    "print('c = ',c)\n",
    "# ----------------------------------------------------------------\n",
    "bisect.insort(c,6)\n",
    "print('bisect.insort(c,6) ->',c)\n"
   ]
  },
  {
   "cell_type": "code",
   "execution_count": null,
   "metadata": {},
   "outputs": [],
   "source": []
  }
 ],
 "metadata": {
  "interpreter": {
   "hash": "05ddec6b923e894547163bbd6349aeb5a326ae16724feb821293fe3ed5c02daa"
  },
  "kernelspec": {
   "display_name": "Python 3.10.1 ('venv': venv)",
   "language": "python",
   "name": "python3"
  },
  "language_info": {
   "codemirror_mode": {
    "name": "ipython",
    "version": 3
   },
   "file_extension": ".py",
   "mimetype": "text/x-python",
   "name": "python",
   "nbconvert_exporter": "python",
   "pygments_lexer": "ipython3",
   "version": "3.10.1"
  },
  "orig_nbformat": 4
 },
 "nbformat": 4,
 "nbformat_minor": 2
}
